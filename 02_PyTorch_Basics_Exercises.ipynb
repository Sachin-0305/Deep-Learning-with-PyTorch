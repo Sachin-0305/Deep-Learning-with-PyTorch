{
  "cells": [
    {
      "cell_type": "markdown",
      "metadata": {
        "collapsed": true,
        "jupyter": {
          "outputs_hidden": true
        },
        "id": "JLUDe_f4H1ig"
      },
      "source": [
        "# PyTorch Basics Exercises\n",
        "For these exercises we'll create a tensor and perform several operations on it.\n",
        "\n",
        "<div class=\"alert alert-danger\" style=\"margin: 10px\"><strong>IMPORTANT NOTE!</strong> Make sure you don't run the cells directly above the example output shown, <br>otherwise you will end up writing over the example output!</div>"
      ]
    },
    {
      "cell_type": "markdown",
      "metadata": {
        "id": "4PG9hkSEH1ii"
      },
      "source": [
        "### 1. Perform standard imports\n",
        "Import torch and NumPy"
      ]
    },
    {
      "cell_type": "code",
      "execution_count": 11,
      "metadata": {
        "id": "18ZPyuAQH1ii"
      },
      "outputs": [],
      "source": [
        "import torch\n",
        "import numpy as np\n"
      ]
    },
    {
      "cell_type": "markdown",
      "metadata": {
        "id": "e4OAtMdHH1ij"
      },
      "source": [
        "### 2. Set the random seed for NumPy and PyTorch both to \"42\"\n",
        "This allows us to share the same \"random\" results."
      ]
    },
    {
      "cell_type": "code",
      "execution_count": 12,
      "metadata": {
        "colab": {
          "base_uri": "https://localhost:8080/"
        },
        "id": "VcCXMHtJH1ik",
        "outputId": "54e0c740-c5ca-4cfe-c874-230612a9bc76"
      },
      "outputs": [
        {
          "output_type": "execute_result",
          "data": {
            "text/plain": [
              "<torch._C.Generator at 0x79f1206b8610>"
            ]
          },
          "metadata": {},
          "execution_count": 12
        }
      ],
      "source": [
        "np.random.seed(42)\n",
        "torch.manual_seed(42)"
      ]
    },
    {
      "cell_type": "markdown",
      "metadata": {
        "id": "yohR2KbmH1ik"
      },
      "source": [
        "### 3. Create a NumPy array called \"arr\" that contains 6 random integers between 0 (inclusive) and 5 (exclusive)"
      ]
    },
    {
      "cell_type": "code",
      "execution_count": 3,
      "metadata": {
        "colab": {
          "base_uri": "https://localhost:8080/"
        },
        "id": "6xerbyoBH1ik",
        "outputId": "8e114acc-0ae3-4583-de22-5c9a14bdab32"
      },
      "outputs": [
        {
          "output_type": "stream",
          "name": "stdout",
          "text": [
            "[3 4 2 4 4 1]\n"
          ]
        }
      ],
      "source": [
        "arr = np.random.randint(0, 5, 6)\n",
        "print(arr)\n"
      ]
    },
    {
      "cell_type": "code",
      "execution_count": null,
      "metadata": {
        "id": "R3AoqCD1H1ik",
        "outputId": "0e7b77dc-0a33-49c5-8960-db7f2685caf7"
      },
      "outputs": [
        {
          "name": "stdout",
          "output_type": "stream",
          "text": [
            "[3 4 2 4 4 1]\n"
          ]
        }
      ],
      "source": [
        "# DON'T WRITE HERE"
      ]
    },
    {
      "cell_type": "markdown",
      "metadata": {
        "id": "WewhaH8rH1il"
      },
      "source": [
        "### 4. Create a tensor \"x\" from the array above"
      ]
    },
    {
      "cell_type": "code",
      "execution_count": 4,
      "metadata": {
        "colab": {
          "base_uri": "https://localhost:8080/"
        },
        "id": "TrcZWlhtH1il",
        "outputId": "92c26d9a-a1f3-4d18-bd6b-2c0739ef6f0a"
      },
      "outputs": [
        {
          "output_type": "stream",
          "name": "stdout",
          "text": [
            "tensor([3, 4, 2, 4, 4, 1], dtype=torch.int32)\n"
          ]
        }
      ],
      "source": [
        "x = torch.tensor(arr, dtype=torch.int32)\n",
        "print(x)\n"
      ]
    },
    {
      "cell_type": "code",
      "execution_count": null,
      "metadata": {
        "id": "yzu_hVEYH1il",
        "outputId": "ce4f950b-71c6-4140-d752-1335d01cf2c0"
      },
      "outputs": [
        {
          "name": "stdout",
          "output_type": "stream",
          "text": [
            "tensor([3, 4, 2, 4, 4, 1], dtype=torch.int32)\n"
          ]
        }
      ],
      "source": [
        "# DON'T WRITE HERE"
      ]
    },
    {
      "cell_type": "markdown",
      "metadata": {
        "id": "jVZaCUqiH1im"
      },
      "source": [
        "### 5. Change the dtype of x from 'int32' to 'int64'\n",
        "Note: 'int64' is also called 'LongTensor'"
      ]
    },
    {
      "cell_type": "code",
      "execution_count": 20,
      "metadata": {
        "colab": {
          "base_uri": "https://localhost:8080/"
        },
        "id": "PFibN5bTH1im",
        "outputId": "9f539cec-44bc-4c19-eb96-2febfa0ee356"
      },
      "outputs": [
        {
          "output_type": "stream",
          "name": "stdout",
          "text": [
            "torch.LongTensor\n"
          ]
        }
      ],
      "source": [
        "x = x.to(dtype=torch.int64)\n",
        "print(x.type())"
      ]
    },
    {
      "cell_type": "code",
      "execution_count": null,
      "metadata": {
        "id": "EXy-5hMfH1im",
        "outputId": "425d64b3-34c6-4ca7-ff92-0ee972ae083f"
      },
      "outputs": [
        {
          "name": "stdout",
          "output_type": "stream",
          "text": [
            "torch.LongTensor\n"
          ]
        }
      ],
      "source": [
        "# DON'T WRITE HERE"
      ]
    },
    {
      "cell_type": "markdown",
      "metadata": {
        "id": "3o5JduPyH1im"
      },
      "source": [
        "### 6. Reshape x into a 3x2 tensor\n",
        "There are several ways to do this."
      ]
    },
    {
      "cell_type": "code",
      "execution_count": 21,
      "metadata": {
        "colab": {
          "base_uri": "https://localhost:8080/"
        },
        "id": "LPwo-DlZH1im",
        "outputId": "14dc84fc-4380-4a4c-fd3e-1d38f50862b8"
      },
      "outputs": [
        {
          "output_type": "stream",
          "name": "stdout",
          "text": [
            "tensor([[3, 4],\n",
            "        [2, 4],\n",
            "        [4, 1]])\n"
          ]
        }
      ],
      "source": [
        "# CODE HERE\n",
        "\n",
        "x = x.view(3, 2)\n",
        "print(x)"
      ]
    },
    {
      "cell_type": "code",
      "execution_count": null,
      "metadata": {
        "id": "KI7RS2g7H1im",
        "outputId": "f5a01f06-7f2b-4d70-f530-2e7cbec7c8f9"
      },
      "outputs": [
        {
          "name": "stdout",
          "output_type": "stream",
          "text": [
            "tensor([[3, 4],\n",
            "        [2, 4],\n",
            "        [4, 1]])\n"
          ]
        }
      ],
      "source": [
        "# DON'T WRITE HERE"
      ]
    },
    {
      "cell_type": "markdown",
      "metadata": {
        "id": "X3Y7KDlZH1in"
      },
      "source": [
        "### 7. Return the right-hand column of tensor x"
      ]
    },
    {
      "cell_type": "code",
      "execution_count": 22,
      "metadata": {
        "colab": {
          "base_uri": "https://localhost:8080/"
        },
        "id": "eCtBBlFAH1in",
        "outputId": "1eb97df8-6c90-4672-9af3-6f43bd5696a3"
      },
      "outputs": [
        {
          "output_type": "stream",
          "name": "stdout",
          "text": [
            "tensor([[4],\n",
            "        [4],\n",
            "        [1]])\n"
          ]
        }
      ],
      "source": [
        "# CODE HERE\n",
        "\n",
        "right_col = x[:, 1].view(-1, 1)\n",
        "print(right_col)"
      ]
    },
    {
      "cell_type": "code",
      "execution_count": null,
      "metadata": {
        "id": "mxblZeRvH1in",
        "outputId": "b4a16b1b-1088-4b8c-f981-2213a69dcf70"
      },
      "outputs": [
        {
          "name": "stdout",
          "output_type": "stream",
          "text": [
            "tensor([[4],\n",
            "        [4],\n",
            "        [1]])\n"
          ]
        }
      ],
      "source": [
        "# DON'T WRITE HERE"
      ]
    },
    {
      "cell_type": "markdown",
      "metadata": {
        "id": "EYAcom8FH1in"
      },
      "source": [
        "### 8. Without changing x, return a tensor of square values of x\n",
        "There are several ways to do this."
      ]
    },
    {
      "cell_type": "code",
      "execution_count": 23,
      "metadata": {
        "colab": {
          "base_uri": "https://localhost:8080/"
        },
        "id": "3XIaTJNEH1in",
        "outputId": "598d4d12-16c9-4938-eafa-ebd30d8e9ef2"
      },
      "outputs": [
        {
          "output_type": "stream",
          "name": "stdout",
          "text": [
            "tensor([[ 9, 16],\n",
            "        [ 4, 16],\n",
            "        [16,  1]])\n"
          ]
        }
      ],
      "source": [
        "# CODE HERE\n",
        "square_x = x ** 2\n",
        "print(square_x)\n"
      ]
    },
    {
      "cell_type": "code",
      "execution_count": null,
      "metadata": {
        "id": "NRchu9g3H1in",
        "outputId": "76f6a91e-426d-480c-b3bf-04c4f6619a17"
      },
      "outputs": [
        {
          "name": "stdout",
          "output_type": "stream",
          "text": [
            "tensor([[ 9, 16],\n",
            "        [ 4, 16],\n",
            "        [16,  1]])\n"
          ]
        }
      ],
      "source": [
        "# DON'T WRITE HERE"
      ]
    },
    {
      "cell_type": "markdown",
      "metadata": {
        "id": "4rhJ2yN2H1in"
      },
      "source": [
        "### 9. Create a tensor \"y\" with the same number of elements as x, that can be matrix-multiplied with x\n",
        "Use PyTorch directly (not NumPy) to create a tensor of random integers between 0 (inclusive) and 5 (exclusive).<br>\n",
        "Think about what shape it should have to permit matrix multiplication."
      ]
    },
    {
      "cell_type": "code",
      "execution_count": 24,
      "metadata": {
        "colab": {
          "base_uri": "https://localhost:8080/"
        },
        "id": "j8gEzaLhH1io",
        "outputId": "08a59a72-e605-4ef4-876f-e70e62a8b3a3"
      },
      "outputs": [
        {
          "output_type": "stream",
          "name": "stdout",
          "text": [
            "tensor([[2, 2, 1],\n",
            "        [4, 1, 0]])\n"
          ]
        }
      ],
      "source": [
        "# CODE HERE\n",
        "\n",
        "y = torch.randint(0, 5, (2, 3))\n",
        "print(y)"
      ]
    },
    {
      "cell_type": "code",
      "execution_count": null,
      "metadata": {
        "id": "9aUVZweXH1io",
        "outputId": "7a6d47b1-305d-4499-b609-2b8f098161c7"
      },
      "outputs": [
        {
          "name": "stdout",
          "output_type": "stream",
          "text": [
            "tensor([[2, 2, 1],\n",
            "        [4, 1, 0]])\n"
          ]
        }
      ],
      "source": [
        "# DON'T WRITE HERE"
      ]
    },
    {
      "cell_type": "markdown",
      "metadata": {
        "id": "Vuy6qYdkH1io"
      },
      "source": [
        "### 10. Find the matrix product of x and y"
      ]
    },
    {
      "cell_type": "code",
      "execution_count": 25,
      "metadata": {
        "colab": {
          "base_uri": "https://localhost:8080/"
        },
        "id": "Mx1e88cCH1io",
        "outputId": "80922358-5fb7-4765-f3e4-ec681f38c120"
      },
      "outputs": [
        {
          "output_type": "stream",
          "name": "stdout",
          "text": [
            "tensor([[22, 10,  3],\n",
            "        [20,  8,  2],\n",
            "        [12,  9,  4]])\n"
          ]
        }
      ],
      "source": [
        "# CODE HERE\n",
        "result = torch.mm(x, y)\n",
        "print(result)\n"
      ]
    },
    {
      "cell_type": "code",
      "execution_count": null,
      "metadata": {
        "id": "R9GoYvReH1io",
        "outputId": "e1fcbe5d-f29f-479c-99c0-887e499b329e"
      },
      "outputs": [
        {
          "name": "stdout",
          "output_type": "stream",
          "text": [
            "tensor([[22, 10,  3],\n",
            "        [20,  8,  2],\n",
            "        [12,  9,  4]])\n"
          ]
        }
      ],
      "source": [
        "# DON'T WRITE HERE"
      ]
    },
    {
      "cell_type": "markdown",
      "metadata": {
        "id": "JgrzRCrlH1io"
      },
      "source": [
        "## Great job!"
      ]
    }
  ],
  "metadata": {
    "kernelspec": {
      "display_name": "Python 3",
      "name": "python3"
    },
    "language_info": {
      "codemirror_mode": {
        "name": "ipython",
        "version": 3
      },
      "file_extension": ".py",
      "mimetype": "text/x-python",
      "name": "python",
      "nbconvert_exporter": "python",
      "pygments_lexer": "ipython3",
      "version": "3.12.3"
    },
    "colab": {
      "provenance": [],
      "gpuType": "T4"
    },
    "accelerator": "GPU"
  },
  "nbformat": 4,
  "nbformat_minor": 0
}